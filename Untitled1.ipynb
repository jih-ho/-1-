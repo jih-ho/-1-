{
  "nbformat": 4,
  "nbformat_minor": 0,
  "metadata": {
    "colab": {
      "name": "Untitled1.ipynb",
      "provenance": [],
      "authorship_tag": "ABX9TyNTdCn8iTJ0coc3AtSVSn1Y",
      "include_colab_link": true
    },
    "kernelspec": {
      "name": "python3",
      "display_name": "Python 3"
    }
  },
  "cells": [
    {
      "cell_type": "markdown",
      "metadata": {
        "id": "view-in-github",
        "colab_type": "text"
      },
      "source": [
        "<a href=\"https://colab.research.google.com/github/jih-ho/-1-/blob/master/Untitled1.ipynb\" target=\"_parent\"><img src=\"https://colab.research.google.com/assets/colab-badge.svg\" alt=\"Open In Colab\"/></a>"
      ]
    },
    {
      "cell_type": "code",
      "metadata": {
        "id": "zBnJyewpvvik",
        "colab_type": "code",
        "colab": {}
      },
      "source": [
        ""
      ],
      "execution_count": null,
      "outputs": []
    },
    {
      "cell_type": "markdown",
      "metadata": {
        "id": "Y_Kfvfzuvw9j",
        "colab_type": "text"
      },
      "source": [
        "<1번 umo의 자율주행>\n",
        "\n",
        "에이치엔티에서 미국 자율주행 기업 **우모(umo)**를 인수해 자사의 카메라모듈 및 자율주행기술을 발전시킬계획을 갖고있음 \n",
        "\n",
        "---------------------------------------------------\n",
        "\n",
        "<2번 ai비서 시리>\n",
        "\n",
        "스마트폰 제조회사 애플에서 만든 인공지능 개인비서 **siri**, 대중적으로 많이 알려진 만큼 ai기술중 가장발전된 모델이라고 보여짐.\n",
        "\n",
        "___________________________________________________\n",
        "\n",
        "<3번 ai스피커>\n",
        "\n",
        "일반적으로 와이파이가 닿는곳에 어디든 블루투스로 연결하여 전반적인 전자기기를 사용자의 말에 따라 다룰수 있는 기능, **스마트홈**이 되기위한 필수품이라고 보여진다.\n",
        "\n",
        "___________________________________________________\n",
        "\n",
        "<4번 ai 면접>\n",
        "\n",
        "ai기반의 모의 면접시스템으로 취업관련분야에서 많이들 사용이 되고있다. 지원자의 전반적인 데이터를 분석하고 합격여부를 알려주는 시스템으로 미래에는 점차적으로 사용될것으로 추측.\n",
        "\n",
        "___________________________________________________\n",
        "\n",
        "<링크>\n",
        "\n",
        "1.[네이버 뉴스](http://www.marketnews.co.kr/news/articleView.html?idxno=37949)\n",
        "\n",
        "2.[나무위키](https://namu.wiki/w/Siri?from=%EC%8B%9C%EB%A6%AC)\n",
        "\n",
        "3.[위키백과](https://ko.wikipedia.org/wiki/%EC%8A%A4%EB%A7%88%ED%8A%B8_%EC%8A%A4%ED%94%BC%EC%BB%A4)\n",
        "\n",
        "4.[인에어](https://www.midashri.com/intro/ai)\n",
        "---------------------------------------------------\n"
      ]
    }
  ]
}